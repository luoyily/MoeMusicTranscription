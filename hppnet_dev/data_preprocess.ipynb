{
 "cells": [
  {
   "cell_type": "code",
   "execution_count": null,
   "metadata": {},
   "outputs": [],
   "source": [
    "import numpy as np\n",
    "import soundfile\n",
    "import torch\n",
    "from tqdm import tqdm\n",
    "import torch.utils.data\n",
    "import h5py\n",
    "\n",
    "from hppnet.constants import *\n",
    "from hppnet.midi import parse_midi\n",
    "import os"
   ]
  },
  {
   "attachments": {},
   "cell_type": "markdown",
   "metadata": {},
   "source": [
    "midi to tsv"
   ]
  },
  {
   "cell_type": "code",
   "execution_count": null,
   "metadata": {},
   "outputs": [],
   "source": [
    "path = 'F:/dataset'\n",
    "fns = [os.path.join(path,f) for f in os.listdir(path) if f.endswith('.mid')]\n",
    "for fn in tqdm(fns):\n",
    "    try:\n",
    "        midi_path = fn\n",
    "        tsv_filename = fn[:-3]+'tsv'\n",
    "        midi = parse_midi(midi_path)\n",
    "        np.savetxt(tsv_filename, midi, fmt='%.6f', delimiter='\\t', header='onset,offset,note,velocity')\n",
    "    except:\n",
    "        print(fn)"
   ]
  },
  {
   "attachments": {},
   "cell_type": "markdown",
   "metadata": {},
   "source": [
    "pack tsv,wav to h5"
   ]
  },
  {
   "cell_type": "code",
   "execution_count": null,
   "metadata": {},
   "outputs": [],
   "source": [
    "path = 'F:/dataset'\n",
    "fns = [os.path.join(path,f) for f in os.listdir(path) if f.endswith('.mid')]\n",
    "for fn in tqdm(fns):\n",
    "    try:\n",
    "        midi_path = fn\n",
    "        tsv_path = fn[:-3]+'tsv'\n",
    "        h5_path = fn[:-3]+'h5'\n",
    "        audio_path = fn[:-3]+'wav'\n",
    "\n",
    "        with h5py.File(h5_path, mode='w') as h5:                \n",
    "            audio, sr = soundfile.read(audio_path, dtype='int16')\n",
    "            # audio, sr = librosa.load(audio_path, sr = SAMPLE_RATE, mono=True)\n",
    "            assert sr == SAMPLE_RATE\n",
    "\n",
    "            audio = torch.ShortTensor(audio)\n",
    "            audio_length = len(audio)\n",
    "\n",
    "            n_keys = MAX_MIDI - MIN_MIDI + 1\n",
    "            n_steps = (audio_length - 1) // HOP_LENGTH + 1\n",
    "\n",
    "            label = torch.zeros(n_steps, n_keys, dtype=torch.uint8)\n",
    "            velocity = torch.zeros(n_steps, n_keys, dtype=torch.uint8)\n",
    "\n",
    "\n",
    "            if(len(tsv_path) > 0):\n",
    "                tsv_path = tsv_path\n",
    "                # print(tsv_path)\n",
    "                midi = np.loadtxt(tsv_path, delimiter='\\t', skiprows=1)\n",
    "                if len(midi.shape) == 1:\n",
    "                    midi = np.expand_dims(midi,0)\n",
    "\n",
    "                for onset, offset, note, vel in midi:\n",
    "                    left = int(round(onset * SAMPLE_RATE / HOP_LENGTH))\n",
    "                    onset_right = min(n_steps, left + HOPS_IN_ONSET)\n",
    "                    frame_right = int(round(offset * SAMPLE_RATE / HOP_LENGTH))\n",
    "                    frame_right = min(n_steps, frame_right)\n",
    "                    offset_right = min(n_steps, frame_right + HOPS_IN_OFFSET)\n",
    "\n",
    "                    f = int(note) - MIN_MIDI\n",
    "                    label[left:onset_right, f] = 3\n",
    "                    label[onset_right:frame_right, f] = 2\n",
    "                    label[frame_right:offset_right, f] = 1\n",
    "                    velocity[left:frame_right, f] = vel\n",
    "\n",
    "            # data = dict(path=audio_path, audio=audio, label=label, velocity=velocity)\n",
    "            h5['path'] = audio_path\n",
    "            h5['audio'] = audio.numpy()\n",
    "            h5['label'] = label.numpy()\n",
    "            h5['velocity'] = velocity.numpy()\n",
    "            # torch.save(data, saved_data_path)\n",
    "    except:\n",
    "        print(fn)"
   ]
  }
 ],
 "metadata": {
  "kernelspec": {
   "display_name": "Python 3",
   "language": "python",
   "name": "python3"
  },
  "language_info": {
   "codemirror_mode": {
    "name": "ipython",
    "version": 3
   },
   "file_extension": ".py",
   "mimetype": "text/x-python",
   "name": "python",
   "nbconvert_exporter": "python",
   "pygments_lexer": "ipython3",
   "version": "3.10.9"
  },
  "orig_nbformat": 4
 },
 "nbformat": 4,
 "nbformat_minor": 2
}
